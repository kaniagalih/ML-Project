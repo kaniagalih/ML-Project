{
  "nbformat": 4,
  "nbformat_minor": 0,
  "metadata": {
    "colab": {
      "private_outputs": true,
      "provenance": [],
      "gpuType": "T4",
      "collapsed_sections": [
        "XYFb6znIFL4a",
        "-ynDzxNTHUnQ",
        "NMdPY8C8HiAk"
      ]
    },
    "kernelspec": {
      "name": "python3",
      "display_name": "Python 3"
    },
    "language_info": {
      "name": "python"
    },
    "accelerator": "GPU"
  },
  "cells": [
    {
      "cell_type": "markdown",
      "source": [
        "KANIA GALIH WIDOWATI\n",
        "\n",
        "kania.widowati@binus.ac.id"
      ],
      "metadata": {
        "id": "rP11o4F9QwlN"
      }
    },
    {
      "cell_type": "markdown",
      "source": [
        "#Get Data"
      ],
      "metadata": {
        "id": "XYFb6znIFL4a"
      }
    },
    {
      "cell_type": "code",
      "execution_count": null,
      "metadata": {
        "id": "smQyNqVKCMbd"
      },
      "outputs": [],
      "source": [
        "!pip install kaggle\n",
        "!mkdir ~/.kaggle\n",
        "!cp kaggle.json ~/.kaggle/\n",
        "!chmod 600 ~/.kaggle/kaggle.json"
      ]
    },
    {
      "cell_type": "code",
      "source": [
        "!kaggle competitions download -c GiveMeSomeCredit"
      ],
      "metadata": {
        "id": "ZjmIhcvQGvLh"
      },
      "execution_count": null,
      "outputs": []
    },
    {
      "cell_type": "code",
      "source": [
        "!unzip GiveMeSomeCredit.zip -d './data'"
      ],
      "metadata": {
        "id": "mslSm7fOHHJS"
      },
      "execution_count": null,
      "outputs": []
    },
    {
      "cell_type": "markdown",
      "source": [
        "#Library"
      ],
      "metadata": {
        "id": "-ynDzxNTHUnQ"
      }
    },
    {
      "cell_type": "code",
      "source": [
        "import numpy as np\n",
        "import pandas as pd\n",
        "import seaborn as sns\n",
        "import matplotlib.pyplot as plt"
      ],
      "metadata": {
        "id": "Oe32KeQVHPHe"
      },
      "execution_count": null,
      "outputs": []
    },
    {
      "cell_type": "markdown",
      "source": [
        "#Load Dataset"
      ],
      "metadata": {
        "id": "NMdPY8C8HiAk"
      }
    },
    {
      "cell_type": "code",
      "source": [
        "train_data = pd.read_csv('/content/data/cs-training.csv')\n",
        "test_data = pd.read_csv('/content/data/cs-test.csv')\n",
        "sample_submit= pd.read_csv('/content/data/sampleEntry.csv')\n",
        "\n",
        "#Shape\n",
        "print(\"Shape Of Data Train : \", train_data.shape)\n",
        "print(\"Shape Of Data Test : \", test_data.shape)\n",
        "print(\"Shape Of Data Sample Submit : \", sample_submit.shape)"
      ],
      "metadata": {
        "id": "H028Bj3dHhTR"
      },
      "execution_count": null,
      "outputs": []
    },
    {
      "cell_type": "code",
      "source": [
        "train_data.head()"
      ],
      "metadata": {
        "id": "_UllCPCPJL4q"
      },
      "execution_count": null,
      "outputs": []
    },
    {
      "cell_type": "code",
      "source": [
        "test_data.head()"
      ],
      "metadata": {
        "id": "lUhpsz90JV6p"
      },
      "execution_count": null,
      "outputs": []
    },
    {
      "cell_type": "code",
      "source": [
        "sample_submit.head()"
      ],
      "metadata": {
        "id": "C4yRi9LXKXSz"
      },
      "execution_count": null,
      "outputs": []
    },
    {
      "cell_type": "markdown",
      "source": [
        "**Penjelasan Data**\n",
        "- **SeriousDLqin2yrs**: Mengalami tunggakan jatuh tempo 90 hari atau lebih buruk\n",
        "- **RevolvingUtilizationOfUnsecuredLines**\t: Total saldo kartu kredit & jalur kredit (ex : pinjaman / jumlah batas kredit)\n",
        "- **age** : usia peminjam\n",
        "- **NumberOfTime30-59DaysPastDueNotWorse** : Berapa kali peminjam mengalami tunggakan/jatuh tempo selama 30-59 hari\n",
        "- **DebtRatio**\t: pembayaran utang, Biaya hidup / pendapatan kotor bulanan\n",
        "- **MonthlyIncome** : pemasukan bulanan\n",
        "- **NumberOfOpenCreditLinesAndLoans** : jumlah pinjaman terbuka dan jalur kredit\n",
        "- **NumberOfTimes90DaysLate** : Berapa kali peminjam telah menunggak selama 90 hari atau lebih\n",
        "- **NumberRealEstateLoansOrLines** : jumlah pinjaman real estate\n",
        "- **NumberOfTime60-89DaysPastDueNotWorse** : Berapa kali peminjam telah menunggak 60-89 hari\n",
        "- **NumberOfDependents** : Keluarga yang ditanggung, tidak termasuk dirinya sendiri"
      ],
      "metadata": {
        "id": "s3fjuqXhHupI"
      }
    },
    {
      "cell_type": "markdown",
      "source": [
        "#Explore Data Analysis"
      ],
      "metadata": {
        "id": "JKm5VrvvLH06"
      }
    },
    {
      "cell_type": "code",
      "source": [
        "train_data.info()"
      ],
      "metadata": {
        "id": "Yq7yFzksKZK1"
      },
      "execution_count": null,
      "outputs": []
    },
    {
      "cell_type": "code",
      "source": [
        "train_data.describe()"
      ],
      "metadata": {
        "id": "wjaSZGEGM2HU"
      },
      "execution_count": null,
      "outputs": []
    },
    {
      "cell_type": "code",
      "source": [
        "test_data.info()"
      ],
      "metadata": {
        "id": "m6RB6eL3LPXB"
      },
      "execution_count": null,
      "outputs": []
    },
    {
      "cell_type": "code",
      "source": [
        "test_data.describe()"
      ],
      "metadata": {
        "id": "wgKiEiOXLy3S"
      },
      "execution_count": null,
      "outputs": []
    },
    {
      "cell_type": "markdown",
      "source": [
        "Check Unique Value pada setiap kolom di data train dan data test"
      ],
      "metadata": {
        "id": "OVMPhpHIGO85"
      }
    },
    {
      "cell_type": "code",
      "source": [
        "train_data.nunique()"
      ],
      "metadata": {
        "id": "_py3v0wWNv3x"
      },
      "execution_count": null,
      "outputs": []
    },
    {
      "cell_type": "code",
      "source": [
        "test_data.nunique()"
      ],
      "metadata": {
        "id": "hiGYqWcF3fYS"
      },
      "execution_count": null,
      "outputs": []
    },
    {
      "cell_type": "markdown",
      "source": [
        "Check Missing Value"
      ],
      "metadata": {
        "id": "uX3ggg_oF2pm"
      }
    },
    {
      "cell_type": "code",
      "source": [
        "train_data.isnull().sum()"
      ],
      "metadata": {
        "id": "ZBy5GdTP3kQz"
      },
      "execution_count": null,
      "outputs": []
    },
    {
      "cell_type": "code",
      "source": [
        "test_data.isnull().sum()"
      ],
      "metadata": {
        "id": "JT6ECOEZ5Jcs"
      },
      "execution_count": null,
      "outputs": []
    },
    {
      "cell_type": "markdown",
      "source": [
        "Pada data train & test\n",
        "- Unnamed hanya berisikan angka urutan dari data sehingga tidak diperlukan\n",
        "- Terdapat missing value pada MonthlysIncome dan NumberOfDependents pada data train dan data test\n",
        "- NaN pada SeriousDlqin2yrs tidak perlu dihapus karena digunakan untuk melakukan predict"
      ],
      "metadata": {
        "id": "n5h97VbDN2Rz"
      }
    },
    {
      "cell_type": "markdown",
      "source": [
        "Imbalance Check"
      ],
      "metadata": {
        "id": "xcrfGOfbQ-a6"
      }
    },
    {
      "cell_type": "code",
      "source": [
        "train_data['SeriousDlqin2yrs'].value_counts() / train_data.shape[0]"
      ],
      "metadata": {
        "id": "7hOt1lSL5sSS"
      },
      "execution_count": null,
      "outputs": []
    },
    {
      "cell_type": "markdown",
      "source": [
        "Pada kolom ini terjadi imbalance data dikarenakan jumlah value 1 (memiliki tunggakan) dan 0 (tidak ada tunggakan) datanya tidak seimbang. Dari hasil diatas menunjukkan bahwa data 0 (tidak ada tunggakan) lebih banyak dibandingkan dengan orang yang memiliki tunggakan.Untuk mengatasi imbalance data bisa dilakukan dengan oversampling dan undersampling"
      ],
      "metadata": {
        "id": "8jTO4w5_8BIe"
      }
    },
    {
      "cell_type": "code",
      "source": [
        "#Age Train data\n",
        "sns.histplot(data=train_data, x='age', bins=30)\n",
        "plt.title('Age Distribution Train')\n",
        "plt.show()"
      ],
      "metadata": {
        "id": "YqQrUNIX7_k5"
      },
      "execution_count": null,
      "outputs": []
    },
    {
      "cell_type": "code",
      "source": [
        "#Age Test Data\n",
        "sns.histplot(data=test_data, x='age', bins=30)\n",
        "plt.title('Age Distribution Test')\n",
        "plt.show()"
      ],
      "metadata": {
        "id": "mjelFgeVApW3"
      },
      "execution_count": null,
      "outputs": []
    },
    {
      "cell_type": "markdown",
      "source": [
        "Dari data train dan data test, usia peminjam dominan di usia 40-60 tahun. dengan usia minimal 21 tahun dan usia maksimal 109 tahun"
      ],
      "metadata": {
        "id": "HDHmNXamDGW-"
      }
    },
    {
      "cell_type": "markdown",
      "source": [
        "#Feature Engineering"
      ],
      "metadata": {
        "id": "NJPDegBhRblW"
      }
    },
    {
      "cell_type": "code",
      "source": [
        "# train_data.drop(columns='Unnamed: 0', inplace=True)\n",
        "plt.figure(figsize=(10, 10))\n",
        "sns.heatmap(train_data.corr(), cmap='YlGnBu',annot=True)\n",
        "plt.show()"
      ],
      "metadata": {
        "id": "eTS1g5ctAs28"
      },
      "execution_count": null,
      "outputs": []
    },
    {
      "cell_type": "markdown",
      "source": [
        "Dari hasil heatmap diatas kolom berikut memiliki kolerasi yang tinggi\n",
        "- NumberOfTime30-59DaysPastDueNotWorse\n",
        "- NumberOfTimes90DaysLate\n",
        "- NumberOfTime60-89DaysPastDueNotWorse"
      ],
      "metadata": {
        "id": "SYi000QoZPhd"
      }
    },
    {
      "cell_type": "markdown",
      "source": [
        "##Outlier Handling"
      ],
      "metadata": {
        "id": "y3oU85cPaDH-"
      }
    },
    {
      "cell_type": "code",
      "source": [
        "# Ganti nilai outlier dengan mean\n",
        "def handle_outliers(df, feature_name, max_scale_from_std):\n",
        "    f = df[feature_name]\n",
        "    std = f.std()\n",
        "    mean = f.mean()\n",
        "    distance_from_mean = f - mean\n",
        "    condition = np.abs(distance_from_mean) >= max_scale_from_std * std\n",
        "    df.loc[condition, feature_name] = mean\n",
        "\n",
        "    return df"
      ],
      "metadata": {
        "id": "xm5NRveT6Ev1"
      },
      "execution_count": null,
      "outputs": []
    },
    {
      "cell_type": "code",
      "source": [
        "\n",
        "data_satu = train_data\n",
        "# Menampilkan box plot sebelum penanganan outlier\n",
        "plt.figure(figsize=(10, 6))\n",
        "plt.subplot(1, 2, 1)\n",
        "plt.boxplot(data_satu['NumberOfTime30-59DaysPastDueNotWorse'], vert=False)\n",
        "plt.title('Sebelum Penanganan Outlier')\n",
        "\n",
        "train_data = handle_outliers(data_satu, \"NumberOfTime30-59DaysPastDueNotWorse\", 3)\n",
        "\n",
        "# Menampilkan box plot setelah penanganan outlier\n",
        "plt.subplot(1, 2, 2)\n",
        "plt.boxplot(train_data, vert=False)\n",
        "plt.title('Sesudah Penanganan Outlier')"
      ],
      "metadata": {
        "id": "DnKYzzB1yDXs"
      },
      "execution_count": null,
      "outputs": []
    },
    {
      "cell_type": "code",
      "source": [
        "data_dua = train_data\n",
        "# Menampilkan box plot sebelum penanganan outlier\n",
        "plt.figure(figsize=(10, 6))\n",
        "plt.subplot(1, 2, 1)\n",
        "plt.boxplot(data_dua['NumberOfTimes90DaysLate'], vert=False)\n",
        "plt.title('Sebelum Penanganan Outlier')\n",
        "\n",
        "train_data = handle_outliers(data_dua, \"NumberOfTimes90DaysLate\", 3)\n",
        "\n",
        "# Menampilkan box plot setelah penanganan outlier\n",
        "plt.subplot(1, 2, 2)\n",
        "plt.boxplot(train_data, vert=False)\n",
        "plt.title('Sesudah Penanganan Outlier')"
      ],
      "metadata": {
        "id": "Q7nZHqQt45vb"
      },
      "execution_count": null,
      "outputs": []
    },
    {
      "cell_type": "code",
      "source": [
        "data_tiga = train_data\n",
        "# Menampilkan box plot sebelum penanganan outlier\n",
        "plt.figure(figsize=(10, 6))\n",
        "plt.subplot(1, 2, 1)\n",
        "plt.boxplot(data_tiga['NumberOfTime60-89DaysPastDueNotWorse'], vert=False)\n",
        "plt.title('Sebelum Penanganan Outlier')\n",
        "\n",
        "train_data = handle_outliers(data_dua, \"NumberOfTime60-89DaysPastDueNotWorse\", 3)\n",
        "\n",
        "# Menampilkan box plot setelah penanganan outlier\n",
        "plt.subplot(1, 2, 2)\n",
        "plt.boxplot(train_data, vert=False)\n",
        "plt.title('Sesudah Penanganan Outlier')"
      ],
      "metadata": {
        "id": "Xlsss1rE5LML"
      },
      "execution_count": null,
      "outputs": []
    },
    {
      "cell_type": "markdown",
      "source": [
        "##Missing Value Handling"
      ],
      "metadata": {
        "id": "yAim8ED28VIf"
      }
    },
    {
      "cell_type": "markdown",
      "source": [
        "Pada data train dan test terdapat 2 kolom yang memiliki missing value yaitu\n",
        "- NumberOfDependents\n",
        "- MonthlyIncome\n",
        "\n",
        "yang sudah dicheck pada bagian EDA diatas. Untuk mengisi missing value bisa menggunakan mean, median atau modus. namun perlu diperhatikan pengecekan persebaran data.\n",
        "\n",
        "![image.png](data:image/png;base64,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)"
      ],
      "metadata": {
        "id": "POzI4YRVBa2l"
      }
    },
    {
      "cell_type": "markdown",
      "source": [
        "Missing Value Handling -> Data Train"
      ],
      "metadata": {
        "id": "RTbHNxJmNvF6"
      }
    },
    {
      "cell_type": "code",
      "source": [
        "# Plot data train\n",
        "fig, ax = plt.subplots(figsize=(10, 6), ncols=2)\n",
        "\n",
        "# Plot distribusi NumberOfDependents\n",
        "sns.distplot(train_data[\"NumberOfDependents\"], ax=ax[0])\n",
        "ax[0].set_title('Distribusi NumberOfDependents')\n",
        "ax[0].set_xlabel('NumberOfDependents')\n",
        "ax[0].set_ylabel('Frekuensi')\n",
        "\n",
        "# Plot distribusi MonthlyIncome\n",
        "sns.distplot(train_data[\"MonthlyIncome\"], ax=ax[1])\n",
        "ax[1].set_title('Distribusi MonthlyIncome')\n",
        "ax[1].set_xlabel('MonthlyIncome')\n",
        "ax[1].set_ylabel('Frekuensi')\n",
        "\n",
        "plt.show()"
      ],
      "metadata": {
        "id": "Go3lGAYbBA1m"
      },
      "execution_count": null,
      "outputs": []
    },
    {
      "cell_type": "markdown",
      "source": [
        "Plot menunjukkan persebaran data yang miring ke kanan, maka kita bisa mengisi missing value dengan median dikarenakan data yang kita miliki merupakan data numeric."
      ],
      "metadata": {
        "id": "aFGJZ1SCKppB"
      }
    },
    {
      "cell_type": "code",
      "source": [
        "NOD_train = train_data['NumberOfDependents']\n",
        "NOD_train_median = NOD_train.median()\n",
        "\n",
        "MI_train = train_data['MonthlyIncome']\n",
        "MI_train_median = MI_train.median()"
      ],
      "metadata": {
        "id": "D1-UWFYdM4SJ"
      },
      "execution_count": null,
      "outputs": []
    },
    {
      "cell_type": "code",
      "source": [
        "train_data['NumberOfDependents'].fillna(NOD_train_median, inplace=True)\n",
        "train_data['MonthlyIncome'].fillna(MI_train_median, inplace=True)"
      ],
      "metadata": {
        "id": "9a91yU_ENabl"
      },
      "execution_count": null,
      "outputs": []
    },
    {
      "cell_type": "code",
      "source": [
        "train_data.isnull().sum()"
      ],
      "metadata": {
        "id": "F9i1ywgUNn74"
      },
      "execution_count": null,
      "outputs": []
    },
    {
      "cell_type": "markdown",
      "source": [
        "Missing Value Handling -> Data test"
      ],
      "metadata": {
        "id": "TiF1HzB4Nyd7"
      }
    },
    {
      "cell_type": "code",
      "source": [
        "# Plot data test\n",
        "fig, ax = plt.subplots(figsize=(10, 6), ncols=2)\n",
        "\n",
        "# Plot distribusi NumberOfDependents\n",
        "sns.distplot(test_data[\"NumberOfDependents\"], ax=ax[0])\n",
        "ax[0].set_title('Distribusi NumberOfDependents')\n",
        "ax[0].set_xlabel('NumberOfDependents')\n",
        "ax[0].set_ylabel('Frekuensi')\n",
        "\n",
        "# Plot distribusi MonthlyIncome\n",
        "sns.distplot(test_data[\"MonthlyIncome\"], ax=ax[1])\n",
        "ax[1].set_title('Distribusi MonthlyIncome')\n",
        "ax[1].set_xlabel('MonthlyIncome')\n",
        "ax[1].set_ylabel('Frekuensi')\n",
        "\n",
        "plt.show()"
      ],
      "metadata": {
        "id": "0Z6fcBleNpeB"
      },
      "execution_count": null,
      "outputs": []
    },
    {
      "cell_type": "code",
      "source": [
        "NOD_test = test_data['NumberOfDependents']\n",
        "NOD_test_median = NOD_test.median()\n",
        "\n",
        "MI_test = test_data['MonthlyIncome']\n",
        "MI_test_median = MI_test.median()"
      ],
      "metadata": {
        "id": "q-Cm0-IcN8qU"
      },
      "execution_count": null,
      "outputs": []
    },
    {
      "cell_type": "code",
      "source": [
        "test_data['NumberOfDependents'].fillna(NOD_test_median, inplace=True)\n",
        "test_data['MonthlyIncome'].fillna(MI_test_median, inplace=True)"
      ],
      "metadata": {
        "id": "S9DAGMWDOGHk"
      },
      "execution_count": null,
      "outputs": []
    },
    {
      "cell_type": "code",
      "source": [
        "test_data.isnull().sum()"
      ],
      "metadata": {
        "id": "Dq6SeoduOL-N"
      },
      "execution_count": null,
      "outputs": []
    },
    {
      "cell_type": "code",
      "source": [
        "X = train_data.drop(\"SeriousDlqin2yrs\", axis=1)\n",
        "y = train_data[\"SeriousDlqin2yrs\"]"
      ],
      "metadata": {
        "id": "08reD_8bQpLa"
      },
      "execution_count": null,
      "outputs": []
    },
    {
      "cell_type": "code",
      "source": [
        "X.info()"
      ],
      "metadata": {
        "id": "WWLA7BmNQrTg"
      },
      "execution_count": null,
      "outputs": []
    },
    {
      "cell_type": "code",
      "source": [
        "#Optimization using PCA\n",
        "from sklearn.decomposition import PCA\n",
        "pca = PCA(n_components=2)\n",
        "pca.fit(X)"
      ],
      "metadata": {
        "id": "UAp6R5y5QtQj"
      },
      "execution_count": null,
      "outputs": []
    },
    {
      "cell_type": "markdown",
      "source": [
        "#Model"
      ],
      "metadata": {
        "id": "6Lc-kzEyOdtR"
      }
    },
    {
      "cell_type": "code",
      "source": [
        "#Split data -> 70 15 15\n",
        "from sklearn.model_selection import train_test_split\n",
        "X_train, X_test, y_train, y_test = train_test_split(X, y, test_size=0.3, random_state=69)"
      ],
      "metadata": {
        "id": "p3cKeNgJOqTG"
      },
      "execution_count": null,
      "outputs": []
    },
    {
      "cell_type": "code",
      "source": [
        "X_train"
      ],
      "metadata": {
        "id": "2xUVBbApPKsH"
      },
      "execution_count": null,
      "outputs": []
    },
    {
      "cell_type": "markdown",
      "source": [
        "##Random Forest"
      ],
      "metadata": {
        "id": "m1BByZqwPXM7"
      }
    },
    {
      "cell_type": "code",
      "source": [
        "#Model Random Forest\n",
        "from sklearn.ensemble import RandomForestClassifier\n",
        "RF = RandomForestClassifier(max_depth=5, random_state=0)\n",
        "RF.fit(X_train, y_train)"
      ],
      "metadata": {
        "id": "8yEVX5LHRcPi"
      },
      "execution_count": null,
      "outputs": []
    },
    {
      "cell_type": "code",
      "source": [
        "#Predict Random Forest\n",
        "pred_RF = RF.predict(X_test)\n",
        "pred_RF"
      ],
      "metadata": {
        "id": "hYFbDSasPxVM"
      },
      "execution_count": null,
      "outputs": []
    },
    {
      "cell_type": "code",
      "source": [
        "#Evaluation Random Forest\n",
        "from sklearn.metrics import classification_report\n",
        "from sklearn.metrics import accuracy_score\n",
        "cf_RF = classification_report(y_test, pred_RF, labels=[0, 1])\n",
        "acc_RF = accuracy_score(y_test, pred_RF)\n",
        "print(cf_RF)\n",
        "print('Accuracy : ', acc_RF)"
      ],
      "metadata": {
        "id": "Tt-3pt45P0wD"
      },
      "execution_count": null,
      "outputs": []
    },
    {
      "cell_type": "code",
      "source": [
        "#Confusion matrix\n",
        "from sklearn.metrics import confusion_matrix\n",
        "from sklearn.metrics import accuracy_score\n",
        "cm_RF = confusion_matrix(y_test, pred_RF)\n",
        "print(cm_RF)"
      ],
      "metadata": {
        "id": "bclOweUkRM4l"
      },
      "execution_count": null,
      "outputs": []
    },
    {
      "cell_type": "markdown",
      "source": [
        "##Logistic Regression"
      ],
      "metadata": {
        "id": "DPPNehqcSOYE"
      }
    },
    {
      "cell_type": "code",
      "source": [
        "#Model\n",
        "from sklearn.linear_model import LogisticRegression\n",
        "Logreg = LogisticRegression(random_state = 0)\n",
        "Logreg.fit(X_train, y_train)"
      ],
      "metadata": {
        "id": "YzBAKzNUSQZV"
      },
      "execution_count": null,
      "outputs": []
    },
    {
      "cell_type": "code",
      "source": [
        "#Predict Logistic Regression\n",
        "pred_Logreg = Logreg.predict(X_test)\n",
        "pred_Logreg"
      ],
      "metadata": {
        "id": "49skr3VYSXZq"
      },
      "execution_count": null,
      "outputs": []
    },
    {
      "cell_type": "code",
      "source": [
        "#Evaluation\n",
        "cf_LR = classification_report(y_test, pred_Logreg, labels=[0, 1])\n",
        "acc_LR = accuracy_score(y_test, pred_Logreg)\n",
        "print(cf_LR)\n",
        "print('Accuracy : ', acc_LR)"
      ],
      "metadata": {
        "id": "VyR5Ge9ZSZPt"
      },
      "execution_count": null,
      "outputs": []
    },
    {
      "cell_type": "code",
      "source": [
        "#Confusion matrix\n",
        "cm_LR = confusion_matrix(y_test, pred_Logreg)\n",
        "print(cm_LR)"
      ],
      "metadata": {
        "id": "LZLIfZ9mSbkO"
      },
      "execution_count": null,
      "outputs": []
    },
    {
      "cell_type": "markdown",
      "source": [
        "##XGBoost"
      ],
      "metadata": {
        "id": "fHj83ELuEvYE"
      }
    },
    {
      "cell_type": "code",
      "source": [
        "from xgboost import XGBClassifier\n",
        "xgb = XGBClassifier()\n",
        "xgbFit = xgb.fit(X_train, y_train)\n",
        "xgbFit"
      ],
      "metadata": {
        "id": "nb-uYTgwExAQ"
      },
      "execution_count": null,
      "outputs": []
    },
    {
      "cell_type": "code",
      "source": [
        "#predict\n",
        "pred_xgb = xgb.predict(X_test)\n",
        "pred_xgb"
      ],
      "metadata": {
        "id": "VYrAvrWSE-vB"
      },
      "execution_count": null,
      "outputs": []
    },
    {
      "cell_type": "code",
      "source": [
        "# evaluasi\n",
        "print(classification_report(xgb.predict(X_test), y_test))\n",
        "print(accuracy_score(y_test, pred_xgb))"
      ],
      "metadata": {
        "id": "31H3CoxfFJs5"
      },
      "execution_count": null,
      "outputs": []
    },
    {
      "cell_type": "code",
      "source": [
        "#Confusion matrix\n",
        "cm_xgb = confusion_matrix(y_test, pred_xgb)\n",
        "print(cm_xgb)"
      ],
      "metadata": {
        "id": "RvklDRKfFoiO"
      },
      "execution_count": null,
      "outputs": []
    },
    {
      "cell_type": "markdown",
      "source": [
        "Dari keempat model diatas yang memiliki accuracy terbaik adalah model Random Forest. Namun jika dilihat dari confussion matrix dari keempat model tersebut yang menurut saya paling baik adalah pada model XGBoost dimana menghasilkan TP dan TN yang lebih banyak dibandingkan dari kedua model lainnya. Namun False Positif dan False negative yang dihasilkan juga banyak. Namun jika dilihat dari precision, recall dan f1-scores, antara random forest dan XGBoost menurut saya masih lebih baik XGBoost. Sehingga model yang saya pilih adalah XGBoost"
      ],
      "metadata": {
        "id": "kn0Ur2E5Fg54"
      }
    },
    {
      "cell_type": "markdown",
      "source": [
        "#AUC ROC"
      ],
      "metadata": {
        "id": "_1tPiGXgGTqy"
      }
    },
    {
      "cell_type": "code",
      "source": [
        "from sklearn.metrics import roc_auc_score\n",
        "roc_auc = roc_auc_score(y_test, pred_xgb)\n",
        "print(roc_auc)"
      ],
      "metadata": {
        "id": "PWcNOGFYGVjL"
      },
      "execution_count": null,
      "outputs": []
    },
    {
      "cell_type": "code",
      "source": [
        "from sklearn.metrics import roc_curve\n",
        "\n",
        "# Menghitung ROC Curve\n",
        "fpr, tpr, thresholds = roc_curve(y_test, pred_xgb)\n",
        "\n",
        "# Menggambar ROC Curve\n",
        "plt.figure(figsize=(8, 6))\n",
        "plt.plot(fpr, tpr, marker='o', linestyle='-', color='b')\n",
        "plt.plot([0, 1], [0, 1], linestyle='--', color='gray')\n",
        "plt.xlabel('False Positive Rate')\n",
        "plt.ylabel('True Positive Rate')\n",
        "plt.title('ROC Curve')\n",
        "plt.grid()\n",
        "plt.show()"
      ],
      "metadata": {
        "id": "6CPJwbTFG6vb"
      },
      "execution_count": null,
      "outputs": []
    },
    {
      "cell_type": "markdown",
      "source": [
        "#Submission"
      ],
      "metadata": {
        "id": "Isgil1txJibB"
      }
    },
    {
      "cell_type": "code",
      "source": [
        "X = test_data.drop([\"SeriousDlqin2yrs\"], axis=1)\n",
        "y = xgbFit.predict_proba(X)[:, 1]\n",
        "ids = X.index.values + 1\n",
        "predicted = pd.DataFrame({'Id': ids, 'Probability': y})\n",
        "predicted.to_csv(\"submission.csv\", index=False)"
      ],
      "metadata": {
        "id": "6wKQ3M5ZJ532"
      },
      "execution_count": null,
      "outputs": []
    },
    {
      "cell_type": "code",
      "source": [
        "predicted"
      ],
      "metadata": {
        "id": "CspX1FIXNx0M"
      },
      "execution_count": null,
      "outputs": []
    },
    {
      "cell_type": "code",
      "source": [
        "predicted.shape"
      ],
      "metadata": {
        "id": "v2Ev4aZPNzMo"
      },
      "execution_count": null,
      "outputs": []
    }
  ]
}